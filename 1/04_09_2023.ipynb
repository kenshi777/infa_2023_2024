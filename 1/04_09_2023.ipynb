{
 "cells": [
  {
   "cell_type": "code",
   "execution_count": 1,
   "id": "15e9ecef",
   "metadata": {},
   "outputs": [
    {
     "name": "stdout",
     "output_type": "stream",
     "text": [
      "1\n",
      "2\n",
      "3\n",
      "4\n",
      "5\n",
      "End\n",
      "1\n",
      "5\n",
      "3.0\n",
      "1.5811388300841898\n"
     ]
    }
   ],
   "source": [
    "l = []\n",
    "while True:\n",
    "    n = input()\n",
    "    if n == 'End':\n",
    "        break\n",
    "    l.append(int(n))\n",
    "\n",
    "def search_min(A : list):\n",
    "    m = A[0]\n",
    "    for i in A:\n",
    "        if i < m:\n",
    "            m = i\n",
    "    return m\n",
    "\n",
    "def search_max(A : list):\n",
    "    m = A[0]\n",
    "    for i in A:\n",
    "        if i > m:\n",
    "            m = i\n",
    "    return m\n",
    "\n",
    "def mean(A : list):\n",
    "    m = 0\n",
    "    for i in A:\n",
    "        m += i\n",
    "    return m / len(A)\n",
    "\n",
    "def disp(A : list):\n",
    "    m = mean(A)\n",
    "    r = 0\n",
    "    for i in A:\n",
    "        r += (m - i)**2\n",
    "    return (r / (len(A)-1)) ** 0.5\n",
    "\n",
    "print(search_min(l))\n",
    "print(search_max(l))\n",
    "print(mean(l))\n",
    "print(disp(l))\n"
   ]
  },
  {
   "cell_type": "code",
   "execution_count": 2,
   "id": "f322ca38",
   "metadata": {},
   "outputs": [
    {
     "name": "stdout",
     "output_type": "stream",
     "text": [
      "[1, 2, 3, 4, 5]\n"
     ]
    }
   ],
   "source": [
    "def bubble_sort(A):\n",
    "    N = len(A)\n",
    "    for i in range(1, N):\n",
    "        for j in range(0, N-i):\n",
    "            if A[j] > A[j+1]:\n",
    "                A[j], A[j+1] = A[j+1], A[j]\n",
    "    return A\n",
    "\n",
    "l = [5, 4, 3, 2, 1]\n",
    "\n",
    "print(bubble_sort(l))\n"
   ]
  },
  {
   "cell_type": "code",
   "execution_count": 3,
   "id": "dcb3c6fe",
   "metadata": {},
   "outputs": [
    {
     "name": "stdout",
     "output_type": "stream",
     "text": [
      "{3: '1', 4: '2', 1: '3'}\n"
     ]
    }
   ],
   "source": [
    "d = {'1' : 3,\n",
    "     '2' : 4,\n",
    "     '3' : 1}\n",
    "\n",
    "print({v:k for k, v in d.items()})"
   ]
  },
  {
   "cell_type": "code",
   "execution_count": 4,
   "id": "cc1fac91",
   "metadata": {},
   "outputs": [
    {
     "name": "stdout",
     "output_type": "stream",
     "text": [
      "[1, 81, 121, 361, 441, 841, 961, 1521, 1681, 2401]\n"
     ]
    }
   ],
   "source": [
    "a = [i for i in range(2500) if str(i)[-1] == '1' and str(i**0.5)[-1] == '0']\n",
    "print(a)"
   ]
  },
  {
   "cell_type": "code",
   "execution_count": 5,
   "id": "b137e18c",
   "metadata": {},
   "outputs": [
    {
     "name": "stdout",
     "output_type": "stream",
     "text": [
      "10\n"
     ]
    }
   ],
   "source": [
    "def second_max(N):\n",
    "    m_1 = N[0]\n",
    "    m_2 = N[1]\n",
    "    for i in range(2, len(N)):\n",
    "        if N[i] > m_1:\n",
    "            m_2 = m_1\n",
    "            m_1 = N[i]\n",
    "        elif N[i] > m_2 and N[i] != m_1:\n",
    "            m_2 = N[i]\n",
    "    return m_2 \n",
    "\n",
    "print(second_max([1, 7, 4, 6, 2, 12, 10, 6, 4])) "
   ]
  }
 ],
 "metadata": {
  "kernelspec": {
   "display_name": "Python 3 (ipykernel)",
   "language": "python",
   "name": "python3"
  },
  "language_info": {
   "codemirror_mode": {
    "name": "ipython",
    "version": 3
   },
   "file_extension": ".py",
   "mimetype": "text/x-python",
   "name": "python",
   "nbconvert_exporter": "python",
   "pygments_lexer": "ipython3",
   "version": "3.10.12"
  }
 },
 "nbformat": 4,
 "nbformat_minor": 5
}
