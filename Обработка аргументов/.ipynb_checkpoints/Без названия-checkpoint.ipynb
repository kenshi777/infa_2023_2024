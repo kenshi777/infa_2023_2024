{
 "cells": [
  {
   "cell_type": "code",
   "execution_count": null,
   "id": "bbf33511",
   "metadata": {},
   "outputs": [],
   "source": [
    "import sys\n",
    "\n",
    "def fibonacci(n):\n",
    "    fib_sequence = [0, 1]\n",
    "\n",
    "    if n <= 0:\n",
    "        return []\n",
    "\n",
    "    while len(fib_sequence) < n:\n",
    "        next_number = fib_sequence[-1] + fib_sequence[-2]\n",
    "        fib_sequence.append(next_number)\n",
    "\n",
    "    return fib_sequence[-1]\n",
    "\n",
    "\n",
    "\n",
    "print(fibonacci(int(sys.argv[-1])))"
   ]
  },
  {
   "cell_type": "code",
   "execution_count": 3,
   "id": "7057e51d",
   "metadata": {},
   "outputs": [
    {
     "name": "stdout",
     "output_type": "stream",
     "text": [
      "Очень много\n"
     ]
    }
   ],
   "source": [
    "def decorator(func):\n",
    "    def the_wrapper(N):\n",
    "        k = func(N)\n",
    "        if k == 0:\n",
    "            return 'Нет('\n",
    "        elif k > 10:\n",
    "            return 'Очень много'\n",
    "        else:\n",
    "            return k\n",
    "    return the_wrapper\n",
    "\n",
    "@decorator\n",
    "def count_even(N):\n",
    "    c = 0\n",
    "    for i in N:\n",
    "        if i % 2 == 0:\n",
    "            c += 1\n",
    "    return c\n",
    "\n",
    "print(count_even([2, 2, 2, 2, 2, 2, 2, 2, 2, 2, 2, 2,2]))"
   ]
  },
  {
   "cell_type": "code",
   "execution_count": 4,
   "id": "cae3e3b9",
   "metadata": {},
   "outputs": [
    {
     "name": "stdout",
     "output_type": "stream",
     "text": [
      "(3, 2, 1)\n"
     ]
    }
   ],
   "source": [
    "def swap(func):\n",
    "    def wrapper(*args, **kwargs):\n",
    "        reversed_args = args[::-1]\n",
    "        return func(*reversed_args, **kwargs)\n",
    "    return wrapper\n",
    "\n",
    "@swap\n",
    "def example(*args):\n",
    "    return args\n",
    "\n",
    "res = example(1, 2, 3)\n",
    "print(res)"
   ]
  },
  {
   "cell_type": "code",
   "execution_count": 6,
   "id": "61bbb1cb",
   "metadata": {},
   "outputs": [
    {
     "data": {
      "text/plain": [
       "5"
      ]
     },
     "execution_count": 6,
     "metadata": {},
     "output_type": "execute_result"
    }
   ],
   "source": [
    "import datetime\n",
    "def log_func_call(log_file):\n",
    "    def decorator(func):\n",
    "        def wrapper(*args, **kwargs):\n",
    "            start_time = datetime.datetime.now()\n",
    "            result = func(*args, **kwargs)\n",
    "            end_time = datetime.datetime.now()\n",
    "            execution_time = end_time - start_time\n",
    "\n",
    "            with open(log_file, \"a\") as file:\n",
    "                file.write(f\"Время вызова функции: {start_time}\\n\")\n",
    "                file.write(f\"Входящие аргументы: args={args}, kwargs={kwargs}\\n\")\n",
    "                file.write(f\"Ответ return: {result if result is not None else '-'}\\n\")\n",
    "                file.write(f\"Время завершения работы функции: {end_time}\\n\")\n",
    "                file.write(f\"Время работы функции: {execution_time}\\n\\n\")\n",
    "\n",
    "            return result\n",
    "\n",
    "        return wrapper\n",
    "\n",
    "    return decorator\n",
    "\n",
    "@log_func_call(\"log.log\")\n",
    "def example(a, b):\n",
    "    return a + b\n",
    "\n",
    "example(2, 3)\n"
   ]
  }
 ],
 "metadata": {
  "kernelspec": {
   "display_name": "Python 3 (ipykernel)",
   "language": "python",
   "name": "python3"
  },
  "language_info": {
   "codemirror_mode": {
    "name": "ipython",
    "version": 3
   },
   "file_extension": ".py",
   "mimetype": "text/x-python",
   "name": "python",
   "nbconvert_exporter": "python",
   "pygments_lexer": "ipython3",
   "version": "3.10.12"
  }
 },
 "nbformat": 4,
 "nbformat_minor": 5
}
